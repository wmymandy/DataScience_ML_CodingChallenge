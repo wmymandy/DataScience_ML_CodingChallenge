{
  "nbformat": 4,
  "nbformat_minor": 0,
  "metadata": {
    "colab": {
      "name": "Eluvio-MLDSintern_Coding_Challenge.ipynb",
      "provenance": [],
      "collapsed_sections": []
    },
    "kernelspec": {
      "display_name": "Python 3",
      "name": "python3"
    },
    "language_info": {
      "name": "python"
    }
  },
  "cells": [
    {
      "cell_type": "code",
      "metadata": {
        "colab": {
          "base_uri": "https://localhost:8080/"
        },
        "id": "1dpTSwA2DCJy",
        "outputId": "105d4134-ab11-4225-a666-dd29bd17486b"
      },
      "source": [
        "import pandas as pd\n",
        "df = pd.read_csv(\"/content/drive/MyDrive/data/video_label/Eluvio_DS_Challenge.csv\")\n",
        "df.shape"
      ],
      "execution_count": 1,
      "outputs": [
        {
          "output_type": "execute_result",
          "data": {
            "text/plain": [
              "(509236, 8)"
            ]
          },
          "metadata": {
            "tags": []
          },
          "execution_count": 1
        }
      ]
    },
    {
      "cell_type": "code",
      "metadata": {
        "colab": {
          "base_uri": "https://localhost:8080/",
          "height": 204
        },
        "id": "0h9vDT7GDapW",
        "outputId": "592c117e-e277-497d-d9ff-dcd98c54529b"
      },
      "source": [
        "df.head()"
      ],
      "execution_count": 2,
      "outputs": [
        {
          "output_type": "execute_result",
          "data": {
            "text/html": [
              "<div>\n",
              "<style scoped>\n",
              "    .dataframe tbody tr th:only-of-type {\n",
              "        vertical-align: middle;\n",
              "    }\n",
              "\n",
              "    .dataframe tbody tr th {\n",
              "        vertical-align: top;\n",
              "    }\n",
              "\n",
              "    .dataframe thead th {\n",
              "        text-align: right;\n",
              "    }\n",
              "</style>\n",
              "<table border=\"1\" class=\"dataframe\">\n",
              "  <thead>\n",
              "    <tr style=\"text-align: right;\">\n",
              "      <th></th>\n",
              "      <th>time_created</th>\n",
              "      <th>date_created</th>\n",
              "      <th>up_votes</th>\n",
              "      <th>down_votes</th>\n",
              "      <th>title</th>\n",
              "      <th>over_18</th>\n",
              "      <th>author</th>\n",
              "      <th>category</th>\n",
              "    </tr>\n",
              "  </thead>\n",
              "  <tbody>\n",
              "    <tr>\n",
              "      <th>0</th>\n",
              "      <td>1201232046</td>\n",
              "      <td>2008-01-25</td>\n",
              "      <td>3</td>\n",
              "      <td>0</td>\n",
              "      <td>Scores killed in Pakistan clashes</td>\n",
              "      <td>False</td>\n",
              "      <td>polar</td>\n",
              "      <td>worldnews</td>\n",
              "    </tr>\n",
              "    <tr>\n",
              "      <th>1</th>\n",
              "      <td>1201232075</td>\n",
              "      <td>2008-01-25</td>\n",
              "      <td>2</td>\n",
              "      <td>0</td>\n",
              "      <td>Japan resumes refuelling mission</td>\n",
              "      <td>False</td>\n",
              "      <td>polar</td>\n",
              "      <td>worldnews</td>\n",
              "    </tr>\n",
              "    <tr>\n",
              "      <th>2</th>\n",
              "      <td>1201232523</td>\n",
              "      <td>2008-01-25</td>\n",
              "      <td>3</td>\n",
              "      <td>0</td>\n",
              "      <td>US presses Egypt on Gaza border</td>\n",
              "      <td>False</td>\n",
              "      <td>polar</td>\n",
              "      <td>worldnews</td>\n",
              "    </tr>\n",
              "    <tr>\n",
              "      <th>3</th>\n",
              "      <td>1201233290</td>\n",
              "      <td>2008-01-25</td>\n",
              "      <td>1</td>\n",
              "      <td>0</td>\n",
              "      <td>Jump-start economy: Give health care to all</td>\n",
              "      <td>False</td>\n",
              "      <td>fadi420</td>\n",
              "      <td>worldnews</td>\n",
              "    </tr>\n",
              "    <tr>\n",
              "      <th>4</th>\n",
              "      <td>1201274720</td>\n",
              "      <td>2008-01-25</td>\n",
              "      <td>4</td>\n",
              "      <td>0</td>\n",
              "      <td>Council of Europe bashes EU&amp;UN terror blacklist</td>\n",
              "      <td>False</td>\n",
              "      <td>mhermans</td>\n",
              "      <td>worldnews</td>\n",
              "    </tr>\n",
              "  </tbody>\n",
              "</table>\n",
              "</div>"
            ],
            "text/plain": [
              "   time_created date_created  up_votes  ...  over_18    author   category\n",
              "0    1201232046   2008-01-25         3  ...    False     polar  worldnews\n",
              "1    1201232075   2008-01-25         2  ...    False     polar  worldnews\n",
              "2    1201232523   2008-01-25         3  ...    False     polar  worldnews\n",
              "3    1201233290   2008-01-25         1  ...    False   fadi420  worldnews\n",
              "4    1201274720   2008-01-25         4  ...    False  mhermans  worldnews\n",
              "\n",
              "[5 rows x 8 columns]"
            ]
          },
          "metadata": {
            "tags": []
          },
          "execution_count": 2
        }
      ]
    },
    {
      "cell_type": "code",
      "metadata": {
        "colab": {
          "base_uri": "https://localhost:8080/"
        },
        "id": "zaBd5dxrEnW1",
        "outputId": "dbf1e1ed-6402-43c6-df88-4bcbda27b8b7"
      },
      "source": [
        "df.isnull().sum()"
      ],
      "execution_count": 3,
      "outputs": [
        {
          "output_type": "execute_result",
          "data": {
            "text/plain": [
              "time_created    0\n",
              "date_created    0\n",
              "up_votes        0\n",
              "down_votes      0\n",
              "title           0\n",
              "over_18         0\n",
              "author          0\n",
              "category        0\n",
              "dtype: int64"
            ]
          },
          "metadata": {
            "tags": []
          },
          "execution_count": 3
        }
      ]
    },
    {
      "cell_type": "code",
      "metadata": {
        "colab": {
          "base_uri": "https://localhost:8080/"
        },
        "id": "uzASe5ikHmL_",
        "outputId": "fab878c1-35c4-4ada-aedf-25cb338f9c73"
      },
      "source": [
        "# check how many category included in df\n",
        "df.category.nunique()"
      ],
      "execution_count": 4,
      "outputs": [
        {
          "output_type": "execute_result",
          "data": {
            "text/plain": [
              "1"
            ]
          },
          "metadata": {
            "tags": []
          },
          "execution_count": 4
        }
      ]
    },
    {
      "cell_type": "code",
      "metadata": {
        "colab": {
          "base_uri": "https://localhost:8080/"
        },
        "id": "5h31Igp-nPpm",
        "outputId": "6d63d29c-95a4-4998-ada4-0d587dc369cf"
      },
      "source": [
        "# check if there is any down votes\n",
        "df.down_votes.nunique()"
      ],
      "execution_count": 5,
      "outputs": [
        {
          "output_type": "execute_result",
          "data": {
            "text/plain": [
              "1"
            ]
          },
          "metadata": {
            "tags": []
          },
          "execution_count": 5
        }
      ]
    },
    {
      "cell_type": "markdown",
      "metadata": {
        "id": "xtrXaHdvSIOg"
      },
      "source": [
        "### Data Preprocessing"
      ]
    },
    {
      "cell_type": "code",
      "metadata": {
        "id": "zgOC5PLnDbij"
      },
      "source": [
        "import nltk\n",
        "from nltk.corpus import stopwords\n",
        "from nltk.tokenize import word_tokenize \n",
        "from nltk.stem import LancasterStemmer\n",
        "import string\n",
        "import numpy as np\n",
        "from keras.preprocessing.text import Tokenizer\n",
        "from keras.preprocessing.sequence import pad_sequences"
      ],
      "execution_count": 6,
      "outputs": []
    },
    {
      "cell_type": "code",
      "metadata": {
        "id": "aFGEd1dfDbfU"
      },
      "source": [
        "nltk.download('stopwords')\n",
        "nltk.download('punkt')"
      ],
      "execution_count": null,
      "outputs": []
    },
    {
      "cell_type": "code",
      "metadata": {
        "id": "UnrqszfdDbUI"
      },
      "source": [
        "def text_cleaning(df):\n",
        "    for i, text in enumerate(df['title']):\n",
        "        # remove punctuation\n",
        "        s = text.translate(str.maketrans('', '', string.punctuation))\n",
        "        word_tokens = word_tokenize(s)\n",
        "        # remove stopwords\n",
        "        stop_words = set(stopwords.words('english'))\n",
        "        filtered_s = [w for w in word_tokens if w not in stop_words]\n",
        "        filtered_s = ' '.join(filtered_s)\n",
        "        # stemming\n",
        "        my_stemmer = LancasterStemmer()\n",
        "        stemmed = my_stemmer.stem(filtered_s)\n",
        "        df.at[i, 'title'] = stemmed\n",
        "        if (i%100000 == 0): print(i,\"completed.\")"
      ],
      "execution_count": 8,
      "outputs": []
    },
    {
      "cell_type": "code",
      "metadata": {
        "colab": {
          "base_uri": "https://localhost:8080/"
        },
        "id": "pxs2wTYCDblP",
        "outputId": "e036f6fe-dda8-457e-f82e-37d8252276eb"
      },
      "source": [
        "# text cleaning\n",
        "text_cleaning(df)"
      ],
      "execution_count": 9,
      "outputs": [
        {
          "output_type": "stream",
          "text": [
            "0 completed.\n",
            "100000 completed.\n",
            "200000 completed.\n",
            "300000 completed.\n",
            "400000 completed.\n",
            "500000 completed.\n"
          ],
          "name": "stdout"
        }
      ]
    },
    {
      "cell_type": "code",
      "metadata": {
        "colab": {
          "base_uri": "https://localhost:8080/",
          "height": 204
        },
        "id": "n3SKKemhDbn1",
        "outputId": "0d6567bf-4453-449b-ff76-553d69f51dd4"
      },
      "source": [
        "df.head()"
      ],
      "execution_count": 10,
      "outputs": [
        {
          "output_type": "execute_result",
          "data": {
            "text/html": [
              "<div>\n",
              "<style scoped>\n",
              "    .dataframe tbody tr th:only-of-type {\n",
              "        vertical-align: middle;\n",
              "    }\n",
              "\n",
              "    .dataframe tbody tr th {\n",
              "        vertical-align: top;\n",
              "    }\n",
              "\n",
              "    .dataframe thead th {\n",
              "        text-align: right;\n",
              "    }\n",
              "</style>\n",
              "<table border=\"1\" class=\"dataframe\">\n",
              "  <thead>\n",
              "    <tr style=\"text-align: right;\">\n",
              "      <th></th>\n",
              "      <th>time_created</th>\n",
              "      <th>date_created</th>\n",
              "      <th>up_votes</th>\n",
              "      <th>down_votes</th>\n",
              "      <th>title</th>\n",
              "      <th>over_18</th>\n",
              "      <th>author</th>\n",
              "      <th>category</th>\n",
              "    </tr>\n",
              "  </thead>\n",
              "  <tbody>\n",
              "    <tr>\n",
              "      <th>0</th>\n",
              "      <td>1201232046</td>\n",
              "      <td>2008-01-25</td>\n",
              "      <td>3</td>\n",
              "      <td>0</td>\n",
              "      <td>scores killed pakistan clashe</td>\n",
              "      <td>False</td>\n",
              "      <td>polar</td>\n",
              "      <td>worldnews</td>\n",
              "    </tr>\n",
              "    <tr>\n",
              "      <th>1</th>\n",
              "      <td>1201232075</td>\n",
              "      <td>2008-01-25</td>\n",
              "      <td>2</td>\n",
              "      <td>0</td>\n",
              "      <td>japan resumes refuelling misj</td>\n",
              "      <td>False</td>\n",
              "      <td>polar</td>\n",
              "      <td>worldnews</td>\n",
              "    </tr>\n",
              "    <tr>\n",
              "      <th>2</th>\n",
              "      <td>1201232523</td>\n",
              "      <td>2008-01-25</td>\n",
              "      <td>3</td>\n",
              "      <td>0</td>\n",
              "      <td>us presses egypt gaza border</td>\n",
              "      <td>False</td>\n",
              "      <td>polar</td>\n",
              "      <td>worldnews</td>\n",
              "    </tr>\n",
              "    <tr>\n",
              "      <th>3</th>\n",
              "      <td>1201233290</td>\n",
              "      <td>2008-01-25</td>\n",
              "      <td>1</td>\n",
              "      <td>0</td>\n",
              "      <td>jumpstart economy give health care</td>\n",
              "      <td>False</td>\n",
              "      <td>fadi420</td>\n",
              "      <td>worldnews</td>\n",
              "    </tr>\n",
              "    <tr>\n",
              "      <th>4</th>\n",
              "      <td>1201274720</td>\n",
              "      <td>2008-01-25</td>\n",
              "      <td>4</td>\n",
              "      <td>0</td>\n",
              "      <td>council europe bashes euun terror blacklist</td>\n",
              "      <td>False</td>\n",
              "      <td>mhermans</td>\n",
              "      <td>worldnews</td>\n",
              "    </tr>\n",
              "  </tbody>\n",
              "</table>\n",
              "</div>"
            ],
            "text/plain": [
              "   time_created date_created  up_votes  ...  over_18    author   category\n",
              "0    1201232046   2008-01-25         3  ...    False     polar  worldnews\n",
              "1    1201232075   2008-01-25         2  ...    False     polar  worldnews\n",
              "2    1201232523   2008-01-25         3  ...    False     polar  worldnews\n",
              "3    1201233290   2008-01-25         1  ...    False   fadi420  worldnews\n",
              "4    1201274720   2008-01-25         4  ...    False  mhermans  worldnews\n",
              "\n",
              "[5 rows x 8 columns]"
            ]
          },
          "metadata": {
            "tags": []
          },
          "execution_count": 10
        }
      ]
    },
    {
      "cell_type": "code",
      "metadata": {
        "id": "JC5g3vt1Q-fU"
      },
      "source": [
        "for i,value in enumerate(df['title']):\n",
        "  keyword = value + \" \" + str(df['over_18'][i]) + \" \" + df['author'][i]\n",
        "  df.at[i, 'keyword'] = keyword"
      ],
      "execution_count": 11,
      "outputs": []
    },
    {
      "cell_type": "code",
      "metadata": {
        "colab": {
          "base_uri": "https://localhost:8080/",
          "height": 289
        },
        "id": "EVoe4vPPW4Mt",
        "outputId": "44d4315a-9407-41a0-89f1-de6449d63f7b"
      },
      "source": [
        "df.head()"
      ],
      "execution_count": 12,
      "outputs": [
        {
          "output_type": "execute_result",
          "data": {
            "text/html": [
              "<div>\n",
              "<style scoped>\n",
              "    .dataframe tbody tr th:only-of-type {\n",
              "        vertical-align: middle;\n",
              "    }\n",
              "\n",
              "    .dataframe tbody tr th {\n",
              "        vertical-align: top;\n",
              "    }\n",
              "\n",
              "    .dataframe thead th {\n",
              "        text-align: right;\n",
              "    }\n",
              "</style>\n",
              "<table border=\"1\" class=\"dataframe\">\n",
              "  <thead>\n",
              "    <tr style=\"text-align: right;\">\n",
              "      <th></th>\n",
              "      <th>time_created</th>\n",
              "      <th>date_created</th>\n",
              "      <th>up_votes</th>\n",
              "      <th>down_votes</th>\n",
              "      <th>title</th>\n",
              "      <th>over_18</th>\n",
              "      <th>author</th>\n",
              "      <th>category</th>\n",
              "      <th>keyword</th>\n",
              "    </tr>\n",
              "  </thead>\n",
              "  <tbody>\n",
              "    <tr>\n",
              "      <th>0</th>\n",
              "      <td>1201232046</td>\n",
              "      <td>2008-01-25</td>\n",
              "      <td>3</td>\n",
              "      <td>0</td>\n",
              "      <td>scores killed pakistan clashe</td>\n",
              "      <td>False</td>\n",
              "      <td>polar</td>\n",
              "      <td>worldnews</td>\n",
              "      <td>scores killed pakistan clashe False polar</td>\n",
              "    </tr>\n",
              "    <tr>\n",
              "      <th>1</th>\n",
              "      <td>1201232075</td>\n",
              "      <td>2008-01-25</td>\n",
              "      <td>2</td>\n",
              "      <td>0</td>\n",
              "      <td>japan resumes refuelling misj</td>\n",
              "      <td>False</td>\n",
              "      <td>polar</td>\n",
              "      <td>worldnews</td>\n",
              "      <td>japan resumes refuelling misj False polar</td>\n",
              "    </tr>\n",
              "    <tr>\n",
              "      <th>2</th>\n",
              "      <td>1201232523</td>\n",
              "      <td>2008-01-25</td>\n",
              "      <td>3</td>\n",
              "      <td>0</td>\n",
              "      <td>us presses egypt gaza border</td>\n",
              "      <td>False</td>\n",
              "      <td>polar</td>\n",
              "      <td>worldnews</td>\n",
              "      <td>us presses egypt gaza border False polar</td>\n",
              "    </tr>\n",
              "    <tr>\n",
              "      <th>3</th>\n",
              "      <td>1201233290</td>\n",
              "      <td>2008-01-25</td>\n",
              "      <td>1</td>\n",
              "      <td>0</td>\n",
              "      <td>jumpstart economy give health care</td>\n",
              "      <td>False</td>\n",
              "      <td>fadi420</td>\n",
              "      <td>worldnews</td>\n",
              "      <td>jumpstart economy give health care False fadi420</td>\n",
              "    </tr>\n",
              "    <tr>\n",
              "      <th>4</th>\n",
              "      <td>1201274720</td>\n",
              "      <td>2008-01-25</td>\n",
              "      <td>4</td>\n",
              "      <td>0</td>\n",
              "      <td>council europe bashes euun terror blacklist</td>\n",
              "      <td>False</td>\n",
              "      <td>mhermans</td>\n",
              "      <td>worldnews</td>\n",
              "      <td>council europe bashes euun terror blacklist Fa...</td>\n",
              "    </tr>\n",
              "  </tbody>\n",
              "</table>\n",
              "</div>"
            ],
            "text/plain": [
              "   time_created  ...                                            keyword\n",
              "0    1201232046  ...          scores killed pakistan clashe False polar\n",
              "1    1201232075  ...          japan resumes refuelling misj False polar\n",
              "2    1201232523  ...           us presses egypt gaza border False polar\n",
              "3    1201233290  ...   jumpstart economy give health care False fadi420\n",
              "4    1201274720  ...  council europe bashes euun terror blacklist Fa...\n",
              "\n",
              "[5 rows x 9 columns]"
            ]
          },
          "metadata": {
            "tags": []
          },
          "execution_count": 12
        }
      ]
    },
    {
      "cell_type": "code",
      "metadata": {
        "id": "1oldAQLHVzys"
      },
      "source": [
        "X = np.array(df[\"title\"])\n",
        "y = np.array(df[\"up_votes\"])"
      ],
      "execution_count": 34,
      "outputs": []
    },
    {
      "cell_type": "code",
      "metadata": {
        "colab": {
          "base_uri": "https://localhost:8080/"
        },
        "id": "6sjPrZVZDbtQ",
        "outputId": "bc6c54e2-84fa-4286-919d-7df5acd1d9bc"
      },
      "source": [
        "print(X.shape, y.shape)"
      ],
      "execution_count": 35,
      "outputs": [
        {
          "output_type": "stream",
          "text": [
            "(509236,) (509236,)\n"
          ],
          "name": "stdout"
        }
      ]
    },
    {
      "cell_type": "code",
      "metadata": {
        "id": "X86bfweicjOW"
      },
      "source": [
        "# tokenize and vectorize\n",
        "def token_vectorize(X):\n",
        "  tokenizer = Tokenizer(num_words=50000, filters='!\"#$%&()*+,-./:;<=>?@[\\]^_`{|}~', lower=True)\n",
        "  tokenizer.fit_on_texts(X)\n",
        "  word_index = tokenizer.word_index\n",
        "  print('Found %s unique tokens.' % len(word_index))\n",
        "  X = tokenizer.texts_to_sequences(X)\n",
        "  X = pad_sequences(X)\n",
        "  print('Shape of data tensor:', X.shape)\n",
        "  return X"
      ],
      "execution_count": 36,
      "outputs": []
    },
    {
      "cell_type": "code",
      "metadata": {
        "colab": {
          "base_uri": "https://localhost:8080/"
        },
        "id": "p2A1HKihc_Jw",
        "outputId": "ad7804be-1974-4662-be95-3db81dd52758"
      },
      "source": [
        "X = token_vectorize(X)"
      ],
      "execution_count": 37,
      "outputs": [
        {
          "output_type": "stream",
          "text": [
            "Found 119278 unique tokens.\n",
            "Shape of data tensor: (509236, 47)\n"
          ],
          "name": "stdout"
        }
      ]
    },
    {
      "cell_type": "code",
      "metadata": {
        "id": "1DHeXFQODnKt"
      },
      "source": [
        "# split train and test\n",
        "from sklearn.model_selection import train_test_split\n",
        "X_train, X_test, y_train, y_test = train_test_split(X, y, test_size=0.3, random_state=42)"
      ],
      "execution_count": 38,
      "outputs": []
    },
    {
      "cell_type": "markdown",
      "metadata": {
        "id": "cZ7YaFLVR-m2"
      },
      "source": [
        "## 1. Votes Prediction"
      ]
    },
    {
      "cell_type": "markdown",
      "metadata": {
        "id": "D2N4cxC9DjRq"
      },
      "source": [
        "For Creator: if title attactive enough for more votes?     \n",
        "use title to predict up_votes, perform Natural language processing on title.     \n",
        "a. use LSTM to predict     \n",
        "b. use Machine learning algorithms (Linear Regression, K-NN Regressor, Random Forest Regressor)"
      ]
    },
    {
      "cell_type": "markdown",
      "metadata": {
        "id": "0lhoOP4amiWm"
      },
      "source": [
        "### 1a. LSTM\n",
        "\n"
      ]
    },
    {
      "cell_type": "code",
      "metadata": {
        "id": "WmJl1-c9VyR7"
      },
      "source": [
        "#normalize y\n",
        "from sklearn import preprocessing\n",
        "import numpy as np\n",
        "y_train = y_train.reshape(-1,1)\n",
        "y_test = y_test.reshape(-1,1)\n",
        "normalized_y_train = preprocessing.normalize(y_train)\n",
        "normalized_y_test = preprocessing.normalize(y_test)"
      ],
      "execution_count": 39,
      "outputs": []
    },
    {
      "cell_type": "code",
      "metadata": {
        "colab": {
          "base_uri": "https://localhost:8080/"
        },
        "id": "vvz5izLzDnNm",
        "outputId": "3ff34e65-d824-4541-9c6f-0ac895949e6b"
      },
      "source": [
        "print(\"train:\", X_train.shape, y_train.shape, normalized_y_train.shape)\n",
        "print(\"test:\", X_test.shape, y_test.shape, normalized_y_test.shape)"
      ],
      "execution_count": 40,
      "outputs": [
        {
          "output_type": "stream",
          "text": [
            "train: (356465, 47) (356465, 1) (356465, 1)\n",
            "test: (152771, 47) (152771, 1) (152771, 1)\n"
          ],
          "name": "stdout"
        }
      ]
    },
    {
      "cell_type": "code",
      "metadata": {
        "id": "TqzW8awHDnSz"
      },
      "source": [
        "import tensorflow as tf\n",
        "from keras.models import Sequential\n",
        "from keras.layers import Dense, Embedding, LSTM\n",
        "\n",
        "model = Sequential()\n",
        "model.add(Embedding(500000, 100, input_length=X_train.shape[1]))\n",
        "model.add(LSTM(100, dropout=0.2, recurrent_dropout=0.2))\n",
        "model.add(Dense(1, activation='softmax'))\n",
        "model.compile(loss='categorical_crossentropy', optimizer='adam', metrics=['accuracy'])"
      ],
      "execution_count": 41,
      "outputs": []
    },
    {
      "cell_type": "code",
      "metadata": {
        "colab": {
          "base_uri": "https://localhost:8080/"
        },
        "id": "Ynn-H9CqTQWO",
        "outputId": "5624e9f2-73df-4fc7-89f7-c6ef92e8b1ac"
      },
      "source": [
        "model.summary()"
      ],
      "execution_count": 42,
      "outputs": [
        {
          "output_type": "stream",
          "text": [
            "Model: \"sequential\"\n",
            "_________________________________________________________________\n",
            "Layer (type)                 Output Shape              Param #   \n",
            "=================================================================\n",
            "embedding (Embedding)        (None, 47, 100)           50000000  \n",
            "_________________________________________________________________\n",
            "lstm (LSTM)                  (None, 100)               80400     \n",
            "_________________________________________________________________\n",
            "dense (Dense)                (None, 1)                 101       \n",
            "=================================================================\n",
            "Total params: 50,080,501\n",
            "Trainable params: 50,080,501\n",
            "Non-trainable params: 0\n",
            "_________________________________________________________________\n"
          ],
          "name": "stdout"
        }
      ]
    },
    {
      "cell_type": "code",
      "metadata": {
        "colab": {
          "base_uri": "https://localhost:8080/"
        },
        "id": "UKrtrXPKTQaK",
        "outputId": "8d0cc83f-d661-4bb0-b6d1-e51b273b4b3c"
      },
      "source": [
        "# model training\n",
        "model.fit(X_train, normalized_y_train, epochs=2, batch_size=128)"
      ],
      "execution_count": 43,
      "outputs": [
        {
          "output_type": "stream",
          "text": [
            "Epoch 1/2\n",
            "2785/2785 [==============================] - 1922s 689ms/step - loss: 0.0000e+00 - accuracy: 0.8164\n",
            "Epoch 2/2\n",
            "2785/2785 [==============================] - 1916s 688ms/step - loss: 0.0000e+00 - accuracy: 0.8167\n"
          ],
          "name": "stdout"
        },
        {
          "output_type": "execute_result",
          "data": {
            "text/plain": [
              "<tensorflow.python.keras.callbacks.History at 0x7f007fa2d0d0>"
            ]
          },
          "metadata": {
            "tags": []
          },
          "execution_count": 43
        }
      ]
    },
    {
      "cell_type": "code",
      "metadata": {
        "id": "6bbUJ514TQdM",
        "colab": {
          "base_uri": "https://localhost:8080/"
        },
        "outputId": "aa7e57e7-bdda-4280-a51f-b81bb43ec096"
      },
      "source": [
        "# prediction\n",
        "results_lstm = model.predict(X_test)\n",
        "\n",
        "# mean accuracy\n",
        "score_lstm = model.evaluate(X_test,normalized_y_test)"
      ],
      "execution_count": 44,
      "outputs": [
        {
          "output_type": "stream",
          "text": [
            "4775/4775 [==============================] - 71s 15ms/step - loss: 0.0000e+00 - accuracy: 0.8170\n"
          ],
          "name": "stdout"
        }
      ]
    },
    {
      "cell_type": "code",
      "metadata": {
        "id": "I0VBjCk_TQhO",
        "colab": {
          "base_uri": "https://localhost:8080/"
        },
        "outputId": "115e5f5f-695a-4f5c-f094-3b97e618e041"
      },
      "source": [
        "print(\"accuracy:\", (score_lstm[1])*100, \"%\")"
      ],
      "execution_count": 49,
      "outputs": [
        {
          "output_type": "stream",
          "text": [
            "accuracy: 81.69940710067749 %\n"
          ],
          "name": "stdout"
        }
      ]
    },
    {
      "cell_type": "markdown",
      "metadata": {
        "id": "s6iAfcSEHIkJ"
      },
      "source": [
        "### 1b. Machine Learning Algorithms"
      ]
    },
    {
      "cell_type": "code",
      "metadata": {
        "id": "CE6VoMgIEG5n"
      },
      "source": [
        "from sklearn.svm import SVR\n",
        "from sklearn.linear_model import LinearRegression\n",
        "from sklearn.neighbors import KNeighborsRegressor\n",
        "from sklearn.ensemble import RandomForestRegressor"
      ],
      "execution_count": 51,
      "outputs": []
    },
    {
      "cell_type": "code",
      "metadata": {
        "colab": {
          "base_uri": "https://localhost:8080/"
        },
        "id": "jl3vZ58VjhRm",
        "outputId": "6f8410d0-0554-4422-92ea-83d44ab2eed4"
      },
      "source": [
        "lr = LinearRegression()\n",
        "lr.fit(X_train, y_train)\n",
        "y_lr_pred = lr.predict(X_test)\n",
        "\n",
        "knn_regressor=KNeighborsRegressor(n_neighbors = 5)\n",
        "knn_model=knn_regressor.fit(X_train,y_train)\n",
        "y_knn_pred=knn_model.predict(X_test)\n",
        "\n",
        "rf = RandomForestRegressor()\n",
        "rf_model = rf.fit(X_train, y_train)\n",
        "y_rf_pred=rf_model.predict(X_test)"
      ],
      "execution_count": 54,
      "outputs": [
        {
          "output_type": "stream",
          "text": [
            "/usr/local/lib/python3.7/dist-packages/ipykernel_launcher.py:10: DataConversionWarning: A column-vector y was passed when a 1d array was expected. Please change the shape of y to (n_samples,), for example using ravel().\n",
            "  # Remove the CWD from sys.path while we load stuff.\n"
          ],
          "name": "stderr"
        }
      ]
    },
    {
      "cell_type": "code",
      "metadata": {
        "id": "Hw4XvxI6is5a"
      },
      "source": [
        "y_t = []\n",
        "for val in list(y_test):\n",
        "  num = str(val)\n",
        "  num = num[1:-1]\n",
        "  y_t.append(int(num))"
      ],
      "execution_count": 103,
      "outputs": []
    },
    {
      "cell_type": "code",
      "metadata": {
        "colab": {
          "base_uri": "https://localhost:8080/",
          "height": 419
        },
        "id": "Z3nqfuMCOZdR",
        "outputId": "f36f3942-c47d-472e-c0c8-73350944bafd"
      },
      "source": [
        "predict_table = pd.DataFrame(columns=['y_lr_pred','y_knn_pred','y_rf_pred', 'average','y_test'])\n",
        "predict_table['y_test'] = y_t\n",
        "predict_table['y_lr_pred'] = y_lr_pred\n",
        "predict_table['y_knn_pred'] = y_knn_pred\n",
        "predict_table['y_rf_pred'] = y_rf_pred\n",
        "  \n",
        "for i, val in enumerate(predict_table['y_lr_pred']):\n",
        "  predict_table.at[i,'average'] = (int(val) + int(predict_table['y_knn_pred'][i]) + int(predict_table['y_rf_pred'][i]))/3\n",
        "\n",
        "predict_table"
      ],
      "execution_count": 107,
      "outputs": [
        {
          "output_type": "execute_result",
          "data": {
            "text/html": [
              "<div>\n",
              "<style scoped>\n",
              "    .dataframe tbody tr th:only-of-type {\n",
              "        vertical-align: middle;\n",
              "    }\n",
              "\n",
              "    .dataframe tbody tr th {\n",
              "        vertical-align: top;\n",
              "    }\n",
              "\n",
              "    .dataframe thead th {\n",
              "        text-align: right;\n",
              "    }\n",
              "</style>\n",
              "<table border=\"1\" class=\"dataframe\">\n",
              "  <thead>\n",
              "    <tr style=\"text-align: right;\">\n",
              "      <th></th>\n",
              "      <th>y_lr_pred</th>\n",
              "      <th>y_knn_pred</th>\n",
              "      <th>y_rf_pred</th>\n",
              "      <th>average</th>\n",
              "      <th>y_test</th>\n",
              "    </tr>\n",
              "  </thead>\n",
              "  <tbody>\n",
              "    <tr>\n",
              "      <th>0</th>\n",
              "      <td>93.252379</td>\n",
              "      <td>9.0</td>\n",
              "      <td>102.210000</td>\n",
              "      <td>68</td>\n",
              "      <td>23</td>\n",
              "    </tr>\n",
              "    <tr>\n",
              "      <th>1</th>\n",
              "      <td>95.559948</td>\n",
              "      <td>2.8</td>\n",
              "      <td>23.005000</td>\n",
              "      <td>40</td>\n",
              "      <td>0</td>\n",
              "    </tr>\n",
              "    <tr>\n",
              "      <th>2</th>\n",
              "      <td>89.942487</td>\n",
              "      <td>86.8</td>\n",
              "      <td>208.016667</td>\n",
              "      <td>127.667</td>\n",
              "      <td>291</td>\n",
              "    </tr>\n",
              "    <tr>\n",
              "      <th>3</th>\n",
              "      <td>98.110516</td>\n",
              "      <td>34.4</td>\n",
              "      <td>25.370000</td>\n",
              "      <td>52.3333</td>\n",
              "      <td>794</td>\n",
              "    </tr>\n",
              "    <tr>\n",
              "      <th>4</th>\n",
              "      <td>100.350914</td>\n",
              "      <td>4.6</td>\n",
              "      <td>19.110000</td>\n",
              "      <td>41</td>\n",
              "      <td>10</td>\n",
              "    </tr>\n",
              "    <tr>\n",
              "      <th>...</th>\n",
              "      <td>...</td>\n",
              "      <td>...</td>\n",
              "      <td>...</td>\n",
              "      <td>...</td>\n",
              "      <td>...</td>\n",
              "    </tr>\n",
              "    <tr>\n",
              "      <th>152766</th>\n",
              "      <td>108.132884</td>\n",
              "      <td>1396.2</td>\n",
              "      <td>225.606667</td>\n",
              "      <td>576.333</td>\n",
              "      <td>0</td>\n",
              "    </tr>\n",
              "    <tr>\n",
              "      <th>152767</th>\n",
              "      <td>99.894313</td>\n",
              "      <td>6.8</td>\n",
              "      <td>129.048333</td>\n",
              "      <td>78</td>\n",
              "      <td>2</td>\n",
              "    </tr>\n",
              "    <tr>\n",
              "      <th>152768</th>\n",
              "      <td>94.980997</td>\n",
              "      <td>663.4</td>\n",
              "      <td>58.340000</td>\n",
              "      <td>271.667</td>\n",
              "      <td>74</td>\n",
              "    </tr>\n",
              "    <tr>\n",
              "      <th>152769</th>\n",
              "      <td>136.638485</td>\n",
              "      <td>3.6</td>\n",
              "      <td>99.930000</td>\n",
              "      <td>79.3333</td>\n",
              "      <td>28</td>\n",
              "    </tr>\n",
              "    <tr>\n",
              "      <th>152770</th>\n",
              "      <td>97.785350</td>\n",
              "      <td>4.2</td>\n",
              "      <td>63.285000</td>\n",
              "      <td>54.6667</td>\n",
              "      <td>20</td>\n",
              "    </tr>\n",
              "  </tbody>\n",
              "</table>\n",
              "<p>152771 rows × 5 columns</p>\n",
              "</div>"
            ],
            "text/plain": [
              "         y_lr_pred  y_knn_pred   y_rf_pred  average  y_test\n",
              "0        93.252379         9.0  102.210000       68      23\n",
              "1        95.559948         2.8   23.005000       40       0\n",
              "2        89.942487        86.8  208.016667  127.667     291\n",
              "3        98.110516        34.4   25.370000  52.3333     794\n",
              "4       100.350914         4.6   19.110000       41      10\n",
              "...            ...         ...         ...      ...     ...\n",
              "152766  108.132884      1396.2  225.606667  576.333       0\n",
              "152767   99.894313         6.8  129.048333       78       2\n",
              "152768   94.980997       663.4   58.340000  271.667      74\n",
              "152769  136.638485         3.6   99.930000  79.3333      28\n",
              "152770   97.785350         4.2   63.285000  54.6667      20\n",
              "\n",
              "[152771 rows x 5 columns]"
            ]
          },
          "metadata": {
            "tags": []
          },
          "execution_count": 107
        }
      ]
    },
    {
      "cell_type": "markdown",
      "metadata": {
        "id": "iRvsAYeMSOfT"
      },
      "source": [
        "## 2. Recommend similar video"
      ]
    },
    {
      "cell_type": "markdown",
      "metadata": {
        "id": "Ap6Fpd6aDnda"
      },
      "source": [
        "For Viewer:      \n",
        "based on the watched videos, recommend similar video.    \n",
        "Currently: Content-based recommender    \n",
        "Can use Collaborative filtering/Hybrid Recommender if users' video ratings available."
      ]
    },
    {
      "cell_type": "code",
      "metadata": {
        "id": "Vt7dvEOKDsbC"
      },
      "source": [
        "# vectorize the keywords\n",
        "from sklearn.feature_extraction.text import TfidfVectorizer\n",
        "tfidf_vector = TfidfVectorizer(stop_words='english')\n",
        "tfidf_matrix = tfidf_vector.fit_transform(df['keyword'][:10000]) \n",
        "# limit data size to avoid crashing due to high computional power in calculating cosine similarity"
      ],
      "execution_count": 71,
      "outputs": []
    },
    {
      "cell_type": "code",
      "metadata": {
        "id": "BA0JInc5L216"
      },
      "source": [
        "# cosine similarity\n",
        "from sklearn.metrics.pairwise import cosine_similarity\n",
        "cosine_sim = cosine_similarity(tfidf_matrix, tfidf_matrix)"
      ],
      "execution_count": 72,
      "outputs": []
    },
    {
      "cell_type": "code",
      "metadata": {
        "id": "vNfgpZ4VL248"
      },
      "source": [
        "# Indices\n",
        "indices = pd.Series(df.index,index=df['title']).drop_duplicates()"
      ],
      "execution_count": 73,
      "outputs": []
    },
    {
      "cell_type": "code",
      "metadata": {
        "id": "nFJyWvq7Wr4O"
      },
      "source": [
        "def single_text_cleaning(text):\n",
        "  # remove punctuation\n",
        "  s = text.translate(str.maketrans('', '', string.punctuation))\n",
        "  word_tokens = word_tokenize(s)\n",
        "  # remove stopwords\n",
        "  stop_words = set(stopwords.words('english'))\n",
        "  filtered_s = [w for w in word_tokens if w not in stop_words]\n",
        "  filtered_s = ' '.join(filtered_s)\n",
        "  # stemming\n",
        "  my_stemmer = LancasterStemmer()\n",
        "  stemmed = my_stemmer.stem(filtered_s)\n",
        "  return stemmed"
      ],
      "execution_count": 74,
      "outputs": []
    },
    {
      "cell_type": "code",
      "metadata": {
        "id": "MN9E_jWYL272"
      },
      "source": [
        "# content-based recommender\n",
        "def get_recommendation(original_title,cosine_sim=cosine_sim,df=df):\n",
        "    title = single_text_cleaning(original_title)\n",
        "    idx = indices[title]\n",
        "    sim_scores = list(enumerate(cosine_sim[idx]))\n",
        "    sim_scores = sorted(sim_scores, key=lambda x: x[1], reverse=True)\n",
        "    sim_scores = sim_scores[1:11]\n",
        "    video_indices = [i[0] for i in sim_scores]\n",
        "    \n",
        "    recommendations = df.iloc[video_indices][['title','up_votes','down_votes','over_18','author']]\n",
        "    recommendations = recommendations.sort_values('up_votes', ascending=False)\n",
        "    return recommendations"
      ],
      "execution_count": 75,
      "outputs": []
    },
    {
      "cell_type": "code",
      "metadata": {
        "id": "JrvtJkJ4L3BL",
        "colab": {
          "base_uri": "https://localhost:8080/",
          "height": 359
        },
        "outputId": "cecab274-1742-4145-d559-448b0dd542e5"
      },
      "source": [
        "# examples: (title) US presses Egypt on Gaza border\n",
        "rec_list = get_recommendation(\"US presses Egypt on Gaza border\")\n",
        "rec_list"
      ],
      "execution_count": 76,
      "outputs": [
        {
          "output_type": "execute_result",
          "data": {
            "text/html": [
              "<div>\n",
              "<style scoped>\n",
              "    .dataframe tbody tr th:only-of-type {\n",
              "        vertical-align: middle;\n",
              "    }\n",
              "\n",
              "    .dataframe tbody tr th {\n",
              "        vertical-align: top;\n",
              "    }\n",
              "\n",
              "    .dataframe thead th {\n",
              "        text-align: right;\n",
              "    }\n",
              "</style>\n",
              "<table border=\"1\" class=\"dataframe\">\n",
              "  <thead>\n",
              "    <tr style=\"text-align: right;\">\n",
              "      <th></th>\n",
              "      <th>title</th>\n",
              "      <th>up_votes</th>\n",
              "      <th>down_votes</th>\n",
              "      <th>over_18</th>\n",
              "      <th>author</th>\n",
              "    </tr>\n",
              "  </thead>\n",
              "  <tbody>\n",
              "    <tr>\n",
              "      <th>7245</th>\n",
              "      <td>south america nations found union</td>\n",
              "      <td>36</td>\n",
              "      <td>0</td>\n",
              "      <td>False</td>\n",
              "      <td>polar</td>\n",
              "    </tr>\n",
              "    <tr>\n",
              "      <th>9216</th>\n",
              "      <td>bill presses iraq recognize israel</td>\n",
              "      <td>6</td>\n",
              "      <td>0</td>\n",
              "      <td>False</td>\n",
              "      <td>treebright</td>\n",
              "    </tr>\n",
              "    <tr>\n",
              "      <th>55</th>\n",
              "      <td>israel plans egypt border fence</td>\n",
              "      <td>3</td>\n",
              "      <td>0</td>\n",
              "      <td>False</td>\n",
              "      <td>JoeyRamone63</td>\n",
              "    </tr>\n",
              "    <tr>\n",
              "      <th>1962</th>\n",
              "      <td>russia medvedev presses nato expansion</td>\n",
              "      <td>2</td>\n",
              "      <td>0</td>\n",
              "      <td>False</td>\n",
              "      <td>twolf1</td>\n",
              "    </tr>\n",
              "    <tr>\n",
              "      <th>2068</th>\n",
              "      <td>bread riots egypt</td>\n",
              "      <td>2</td>\n",
              "      <td>0</td>\n",
              "      <td>False</td>\n",
              "      <td>jips</td>\n",
              "    </tr>\n",
              "    <tr>\n",
              "      <th>5478</th>\n",
              "      <td>somalis protest us strike</td>\n",
              "      <td>1</td>\n",
              "      <td>0</td>\n",
              "      <td>False</td>\n",
              "      <td>polar</td>\n",
              "    </tr>\n",
              "    <tr>\n",
              "      <th>859</th>\n",
              "      <td>venezuela troops move border</td>\n",
              "      <td>1</td>\n",
              "      <td>0</td>\n",
              "      <td>False</td>\n",
              "      <td>DarthTater</td>\n",
              "    </tr>\n",
              "    <tr>\n",
              "      <th>9445</th>\n",
              "      <td>israel hamas agree gaza truce egypt claims</td>\n",
              "      <td>0</td>\n",
              "      <td>0</td>\n",
              "      <td>False</td>\n",
              "      <td>M_Rock</td>\n",
              "    </tr>\n",
              "    <tr>\n",
              "      <th>5240</th>\n",
              "      <td>iran presses ahead with proposed natural gas c...</td>\n",
              "      <td>0</td>\n",
              "      <td>0</td>\n",
              "      <td>False</td>\n",
              "      <td>jips</td>\n",
              "    </tr>\n",
              "    <tr>\n",
              "      <th>5592</th>\n",
              "      <td>babies bodies german freezer</td>\n",
              "      <td>0</td>\n",
              "      <td>0</td>\n",
              "      <td>False</td>\n",
              "      <td>polar</td>\n",
              "    </tr>\n",
              "  </tbody>\n",
              "</table>\n",
              "</div>"
            ],
            "text/plain": [
              "                                                  title  ...        author\n",
              "7245                  south america nations found union  ...         polar\n",
              "9216                 bill presses iraq recognize israel  ...    treebright\n",
              "55                      israel plans egypt border fence  ...  JoeyRamone63\n",
              "1962             russia medvedev presses nato expansion  ...        twolf1\n",
              "2068                                  bread riots egypt  ...          jips\n",
              "5478                          somalis protest us strike  ...         polar\n",
              "859                        venezuela troops move border  ...    DarthTater\n",
              "9445         israel hamas agree gaza truce egypt claims  ...        M_Rock\n",
              "5240  iran presses ahead with proposed natural gas c...  ...          jips\n",
              "5592                       babies bodies german freezer  ...         polar\n",
              "\n",
              "[10 rows x 5 columns]"
            ]
          },
          "metadata": {
            "tags": []
          },
          "execution_count": 76
        }
      ]
    },
    {
      "cell_type": "code",
      "metadata": {
        "id": "W3n5peZl-VQa"
      },
      "source": [
        ""
      ],
      "execution_count": null,
      "outputs": []
    }
  ]
}